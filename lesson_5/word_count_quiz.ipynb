{
 "metadata": {
  "name": "",
  "signature": "sha256:0e6a187eca9f402155d55c3c8dd21505c7e7f94a2b299a53c6eb854bf4e73bf8"
 },
 "nbformat": 3,
 "nbformat_minor": 0,
 "worksheets": [
  {
   "cells": [
    {
     "cell_type": "code",
     "collapsed": false,
     "input": [
      "line = \"This is a text's, is a test string!\"\n",
      "import string"
     ],
     "language": "python",
     "metadata": {},
     "outputs": [],
     "prompt_number": 43
    },
    {
     "cell_type": "code",
     "collapsed": false,
     "input": [
      "print line"
     ],
     "language": "python",
     "metadata": {},
     "outputs": [
      {
       "output_type": "stream",
       "stream": "stdout",
       "text": [
        "This is a text's, is a test string!\n"
       ]
      }
     ],
     "prompt_number": 44
    },
    {
     "cell_type": "code",
     "collapsed": false,
     "input": [
      "exclude = set(string.punctuation)\n",
      "line = ''.join(ch for ch in line if ch not in exclude)\n",
      "data = line.lower().strip().split(\" \")\n",
      "\n",
      "print data"
     ],
     "language": "python",
     "metadata": {},
     "outputs": [
      {
       "output_type": "stream",
       "stream": "stdout",
       "text": [
        "['this', 'is', 'a', 'texts', 'is', 'a', 'test', 'string']\n"
       ]
      }
     ],
     "prompt_number": 45
    },
    {
     "cell_type": "code",
     "collapsed": false,
     "input": [
      "for item in data:\n",
      "    print item"
     ],
     "language": "python",
     "metadata": {},
     "outputs": [
      {
       "output_type": "stream",
       "stream": "stdout",
       "text": [
        "This\n",
        "is\n",
        "a\n",
        "texts\n",
        "is\n",
        "a\n",
        "test\n",
        "string\n"
       ]
      }
     ],
     "prompt_number": 42
    },
    {
     "cell_type": "code",
     "collapsed": false,
     "input": [
      "word_counts = {}"
     ],
     "language": "python",
     "metadata": {},
     "outputs": [],
     "prompt_number": 31
    },
    {
     "cell_type": "code",
     "collapsed": false,
     "input": [
      "for item in data:\n",
      "    if item in word_counts:\n",
      "        word_counts[item] = word_counts[item] + 1\n",
      "    else:\n",
      "        word_counts[item] = 1\n",
      "print word_counts"
     ],
     "language": "python",
     "metadata": {},
     "outputs": [
      {
       "output_type": "stream",
       "stream": "stdout",
       "text": [
        "{'a': 2, 'string': 2, 'this': 1, 'text': 1, 'is': 2, 'test': 1}\n"
       ]
      }
     ],
     "prompt_number": 32
    },
    {
     "cell_type": "code",
     "collapsed": false,
     "input": [],
     "language": "python",
     "metadata": {},
     "outputs": []
    }
   ],
   "metadata": {}
  }
 ]
}